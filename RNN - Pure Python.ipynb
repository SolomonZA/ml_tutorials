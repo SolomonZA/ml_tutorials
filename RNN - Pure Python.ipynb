{
 "cells": [
  {
   "cell_type": "markdown",
   "metadata": {},
   "source": [
    "Parts\n",
    "---\n",
    "\n",
    "- Loading training data\n",
    "    -  Encoding characters into readable vectors\n",
    "- Define the RNN\n",
    "- Define a loss function (the real meat of the code is in the loss function)\n",
    "    -  Forward pass\n",
    "    -  Loss\n",
    "    -  Backward pass\n",
    "- Define a function to create sentences from the model\n",
    "- Train the network\n",
    "    -  Feed the network\n",
    "    -  Calculate gradient and update the model\n"
   ]
  },
  {
   "cell_type": "markdown",
   "metadata": {},
   "source": [
    "Load the training data\n",
    "---"
   ]
  },
  {
   "cell_type": "code",
   "execution_count": 5,
   "metadata": {},
   "outputs": [
    {
     "name": "stdout",
     "output_type": "stream",
     "text": [
      "Data has 134984 total chars and 65 unique characters. \n",
      "\n",
      "The one-hot input vector for 'a' is  \n",
      "\n",
      "[ 0.  0.  0.  0.  0.  0.  0.  0.  0.  0.  0.  0.  0.  0.  0.  0.  0.  0.\n",
      "  0.  0.  0.  0.  0.  0.  0.  0.  0.  0.  0.  0.  0.  0.  0.  0.  0.  0.\n",
      "  0.  0.  0.  1.  0.  0.  0.  0.  0.  0.  0.  0.  0.  0.  0.  0.  0.  0.\n",
      "  0.  0.  0.  0.  0.  0.  0.  0.  0.  0.  0.]\n"
     ]
    }
   ],
   "source": [
    "import numpy as np\n",
    "import matplotlib.pyplot as plt\n",
    "import math\n",
    "import sys\n",
    "import time\n",
    "\n",
    "%matplotlib inline\n",
    "\n",
    "# Data\n",
    "\n",
    "data = open('oldman.txt', 'r').read()\n",
    "\n",
    "chars = list(set(data))\n",
    "\n",
    "data_size, vocab_size = len(data), len(chars)\n",
    "\n",
    "print \"Data has\",data_size,  \"total chars and\",  vocab_size, \"unique characters.\", '\\n'\n",
    "\n",
    "char_to_int = {ch:i for i, ch in enumerate(chars)}\n",
    "int_to_char = {i:ch for i, ch in enumerate(chars)}\n",
    "\n",
    "\n",
    "\n",
    "# Example One-hot Encoded\n",
    "\n",
    "vector_for_char_a = np.zeros((vocab_size,1))\n",
    "vector_for_char_a[char_to_int['a']] = 1\n",
    "print \"The one-hot input vector for 'a' is \", '\\n\\n', vector_for_char_a.ravel()\n"
   ]
  },
  {
   "cell_type": "markdown",
   "metadata": {},
   "source": [
    "# Hyperparameters"
   ]
  },
  {
   "cell_type": "code",
   "execution_count": 6,
   "metadata": {
    "collapsed": true
   },
   "outputs": [],
   "source": [
    "# Number of hidden layer neurons\n",
    "\n",
    "hidden_size = 100\n",
    "\n",
    "# Input sequence length\n",
    "\n",
    "seq_length = 25\n",
    "\n",
    "# How quickly a neural net abandons old beliefs for new ones \n",
    "\n",
    "learning_rate = 0.1 "
   ]
  },
  {
   "cell_type": "markdown",
   "metadata": {},
   "source": [
    "# Model parameters"
   ]
  },
  {
   "cell_type": "code",
   "execution_count": 8,
   "metadata": {},
   "outputs": [
    {
     "name": "stdout",
     "output_type": "stream",
     "text": [
      "Input-to-hidden matrix dimensions (100, 65)\n",
      "Hidden-to-hidden matrix dimensions (100, 100)\n",
      "Hidden-to-output matrix dimensions (65, 100)\n",
      "Hidden bias dimensions (100, 1)\n",
      "Output bias dimensions (65, 1)\n"
     ]
    }
   ],
   "source": [
    "\n",
    "##\n",
    "# Weight Matrices\n",
    "##\n",
    "\n",
    "# Input to hidden state\n",
    "\n",
    "weights_x_h = np.random.randn(hidden_size,vocab_size) * 0.01 \n",
    "\n",
    "# Weights from hidden state to hidden state\n",
    "\n",
    "weights_h_h = np.random.randn(hidden_size,hidden_size) * 0.01\n",
    "\n",
    "# Hidden to output\n",
    "\n",
    "weights_h_y = np.random.randn(vocab_size,hidden_size) * 0.01 \n",
    "\n",
    "##\n",
    "# Biases\n",
    "##\n",
    "\n",
    "# Hidden state bias\n",
    "\n",
    "bias_h = np.zeros((hidden_size,1))\n",
    "\n",
    "# Output bias\n",
    "\n",
    "bias_y = np.zeros((vocab_size,1))\n",
    "\n",
    "##\n",
    "# Dimensions\n",
    "##\n",
    "\n",
    "print \"Input-to-hidden matrix dimensions\", np.shape(weights_x_h)\n",
    "print \"Hidden-to-hidden matrix dimensions\", np.shape(weights_h_h)\n",
    "print \"Hidden-to-output matrix dimensions\", np.shape(weights_h_y)\n",
    "print \"Hidden bias dimensions\", np.shape(bias_h)\n",
    "print \"Output bias dimensions\", np.shape(bias_y)\n"
   ]
  },
  {
   "cell_type": "markdown",
   "metadata": {},
   "source": [
    "Forward Pass\n",
    "---\n",
    "\n",
    "The forward pass uses the parameters of the model (weights_x_h, weights_h_h, bias_h, bias_y) to calculate the **next character** given a character from the training set.\n",
    "\n",
    "The function below shows how the hidden state is calculated.\n",
    "\n",
    "$$ \\mathbf{h}_t = \\phi(W_{xh}\\mathbf{x}_t + W_{hh}\\mathbf{h}_{t-1} + b_h)$$\n",
    "\n",
    "Where:\n",
    "\n",
    "$$\\phi(x) = tanh(x) = \\frac{sinh(x)}{cosh(x)} = \\frac{e^x - e^{-x}}{e^x + e^{-x}}$$ \n",
    "\n",
    "and:\n",
    "\n",
    "$$ \\frac{dtanh(x)}{dx} = 1 - tanh^2(x) = 1 - tanh(x)\\cdot tanh(x)$$\n",
    "\n",
    "The output is calculated as follows:\n",
    "\n",
    "$$ y_t = W_{hy}\\mathbf{h_t} + b_y $$\n",
    "\n",
    "### In words\n",
    "\n",
    "The hidden state at time $t$ is the $TanH$ activation of the **sum** of the **dot product** of the *input-to-hidden-state weight matrix and the inputs*, and the **dot product** of the *hidden-to-hidden weight matrix and the hidden bias* \n",
    "\n",
    "The output is the sum of the **dot product** of the *hidden-state-to-output weight matrix and the hidden state* and the *output bias*\n",
    "\n",
    "The probabilities are then normalised by exponentiating the outputs at time $t$ and the and dividing them by the sum of the exponentiated outputs"
   ]
  },
  {
   "cell_type": "markdown",
   "metadata": {},
   "source": [
    "# TanH Function vs Sigmoid Activation Functions"
   ]
  },
  {
   "cell_type": "code",
   "execution_count": 9,
   "metadata": {},
   "outputs": [
    {
     "data": {
      "text/plain": [
       "([<matplotlib.lines.Line2D at 0x112b8c210>],\n",
       " [<matplotlib.lines.Line2D at 0x112c97bd0>])"
      ]
     },
     "execution_count": 9,
     "metadata": {},
     "output_type": "execute_result"
    },
    {
     "data": {
      "image/png": "[encoded data removed]",
      "text/plain": [
       "<matplotlib.figure.Figure at 0x112b8ca10>"
      ]
     },
     "metadata": {},
     "output_type": "display_data"
    }
   ],
   "source": [
    "\n",
    "\n",
    "plot_x = np.arange(-5,5, 0.1)\n",
    "\n",
    "plot_y = np.tanh(plot_x)\n",
    "\n",
    "\n",
    "\n",
    "def sigmoid(x):\n",
    "    return 1/(1+np.exp(-x))\n",
    "\n",
    "plot_sig = np.array([sigmoid(x) for x in plot_x])\n",
    "plt.title('Sigmoid vs Tanh Activation Functions')\n",
    "plt.plot(plot_x, plot_y), plt.plot(plot_x, plot_sig)\n",
    "\n",
    "\n",
    "\n"
   ]
  },
  {
   "cell_type": "markdown",
   "metadata": {},
   "source": [
    "# Loss\n",
    "---\n",
    "\n",
    "Negative log likelihood\n",
    "\n",
    "$$ p_k = \\frac{e^{f_k}}{\\Sigma_j{e^{f_j}}} $$\n",
    "\n",
    "$$ L_i = -log(p_{y_i}) $$\n",
    "\n",
    "where:\n",
    "\n",
    "$$ f_k = y_t =  W_{hy}\\mathbf{h_t} + b_y $$\n",
    "\n"
   ]
  },
  {
   "cell_type": "markdown",
   "metadata": {},
   "source": [
    "# Train\n",
    "---"
   ]
  },
  {
   "cell_type": "code",
   "execution_count": 10,
   "metadata": {
    "collapsed": true
   },
   "outputs": [],
   "source": [
    "def train(inputs, targets, hprev):\n",
    "    \n",
    "    # Empty dictionaries for inputs (x), hidden state (h), outputs (y), and normalised probabilities (p)\n",
    "    \n",
    "    x_s = {}\n",
    "    h_s = {}\n",
    "    y_s = {}\n",
    "    p_s = {}\n",
    "    \n",
    "    # Previous hidden state \n",
    "    \n",
    "    h_s[-1] = np.copy(hprev)\n",
    "    \n",
    "    # Initialise loss\n",
    "    \n",
    "    loss = 0\n",
    "    \n",
    "    \"\"\"Forward pass of inputs through network\"\"\"\n",
    "    \n",
    "    for t in xrange(len(inputs)):\n",
    "        \n",
    "        # Placeholder for inputs\n",
    "        \n",
    "        x_s[t] = np.zeros((vocab_size,1))\n",
    "        \n",
    "        # Set inputs to 1\n",
    "        \n",
    "        x_s[t][inputs[t]] = 1\n",
    "        \n",
    "        # Calculate hidden state\n",
    "        \n",
    "        h_s[t] = np.tanh(np.dot(weights_x_h, x_s[t]) + np.dot(weights_h_h,h_s[t-1]) + bias_h)\n",
    "        \n",
    "        # Calculate output (Unnormalized log probabilities)\n",
    "        \n",
    "        y_s[t] = np.dot(weights_h_y, h_s[t]) + bias_y \n",
    "        \n",
    "        # Normalise output log probabilities\n",
    "        \n",
    "        p_s[t] = np.exp(y_s[t])/ np.sum(np.exp(y_s[t]))\n",
    "        \n",
    "        # Calculate softmax cross entropy loss\n",
    "        \n",
    "        loss += -np.log(p_s[t][targets[t],0])  \n",
    "        \n",
    "        \n",
    "        \n",
    "    \"\"\"Backward pass: compute gradients\"\"\"\n",
    "    \n",
    "    # Placeholder vectors for gradient values for each set of weights. d = \"delta\" to indicate gradient\n",
    "        \n",
    "    d_weights_x_h = np.zeros_like(weights_x_h)\n",
    "    d_weights_h_h = np.zeros_like(weights_h_h)\n",
    "    d_weights_h_y = np.zeros_like(weights_h_y)\n",
    "    \n",
    "    # Placeholder for gradients of biases\n",
    "    \n",
    "    d_bias_h  = np.zeros_like(bias_h) \n",
    "    d_bias_y = np.zeros_like(bias_y)\n",
    "    \n",
    "    d_h_next = np.zeros_like(h_s[0])\n",
    "\n",
    "    for t in reversed(xrange(len(inputs))):\n",
    "        \n",
    "        # output probabilities\n",
    "        \n",
    "        d_y = np.copy(p_s[t])\n",
    "\n",
    "        # Derive our first gradient\n",
    "        \n",
    "        d_y[targets[t]] -= 1 #backprop into y\n",
    "        \n",
    "        # When we apply the transpose weight matrix we can think of it intuitively as moving the error backward\n",
    "        \n",
    "        # Gradient of the hidden-to-output weight matrix is updated by adding the dot product of transpose of the\n",
    "        # hidden state and the gradient of the loss function wrt the output layer\n",
    "\n",
    "        d_weights_h_y += np.dot(d_y, h_s[t].T)\n",
    "\n",
    "        # Output bias\n",
    "\n",
    "        d_bias_y += d_y \n",
    "\n",
    "        # Backpropagation\n",
    "        \n",
    "        # Backprop into hidden state\n",
    "\n",
    "        d_h = np.dot(weights_h_y.T, d_y) + d_h_next \n",
    "        \n",
    "        # backprop through TanH activation function\n",
    "        \n",
    "        d_h_raw = (1 - h_s[t]*h_s[t]) * d_h \n",
    "        \n",
    "        # Gradient of hidden bias\n",
    "        \n",
    "        d_bias_h += d_h_raw \n",
    "        \n",
    "        # Gradient of input-to-hidden matrix\n",
    "        \n",
    "        d_weights_x_h += np.dot(d_h_raw, x_s[t].T) \n",
    "        \n",
    "        # Gradient of hidden-to-hidden\n",
    "        \n",
    "        d_weights_h_h += np.dot(d_h_raw, h_s[t-1].T) \n",
    "        \n",
    "        #\n",
    "        \n",
    "        d_h_next = np.dot(weights_h_h.T, d_h_raw)\n",
    "\n",
    "    # Vanishing Gradients Problem (Solution)\n",
    "\n",
    "    for d_param in [d_weights_x_h, d_weights_h_h, d_weights_h_y, d_bias_h, d_bias_y]:\n",
    "        \n",
    "        np.clip(d_param, -5, 5, out = d_param) \n",
    "        \n",
    "\n",
    "    return loss, d_weights_x_h, d_weights_h_h, d_weights_h_y, d_bias_h, d_bias_y, h_s[len(inputs) - 1]\n"
   ]
  },
  {
   "cell_type": "markdown",
   "metadata": {},
   "source": [
    "# Sample Sentence from Model\n",
    "---"
   ]
  },
  {
   "cell_type": "code",
   "execution_count": 14,
   "metadata": {},
   "outputs": [
    {
     "name": "stdout",
     "output_type": "stream",
     "text": [
      "----\n",
      " TGJHUtf_HynS�ty\"[vdKg\n",
      "glkG?![leaSuV,h!tCcV!OOWbA\n",
      "NbCIIC FhJymtoaBgRRyaS-wtb,E]t:!v-UcgufyL[vVlIf[VsFv\n",
      "Otk_f jKij:U\n",
      "xL-_BLuMTljDSPmgogOTdA[:U]MuWnhJ:Y\"YIi;cnYw_�JVrz;aVqW,zTJ\n",
      "DoxBwlx'oL!?dTUHWyxdO;aNRC \n",
      " ---- \n"
     ]
    }
   ],
   "source": [
    "def sample(h, seed_ix, n):\n",
    "    \"\"\"\n",
    "    Sample a sequence of integers from the model\n",
    "    h is memory state\n",
    "    seed_ix is seed letter for first time\n",
    "    n is how many characters to predict\n",
    "    \"\"\"\n",
    "    \n",
    "    # Placeholder for inputs\n",
    "    \n",
    "    x = np.zeros((vocab_size,1))\n",
    "    \n",
    "    # Set seed character\n",
    "    \n",
    "    x[seed_ix] = 1\n",
    "    \n",
    "    # List to store generated chars\n",
    "    \n",
    "    ixes = []\n",
    "    \n",
    "    # For as many characters as we want to generate\n",
    "    \n",
    "    for t in xrange(n):\n",
    "        \n",
    "        # Hidden state \n",
    "        \n",
    "        h = np.tanh(np.dot(weights_x_h,x) + np.dot(weights_h_h,h) + bias_h)\n",
    "        \n",
    "        # Compute output \n",
    "        \n",
    "        y = np.dot(weights_h_y, h) + bias_y\n",
    "        \n",
    "        # Probabilities for next characters (normalised)\n",
    "        \n",
    "        p = np.exp(y) / np.sum(np.exp(y))\n",
    "        \n",
    "        # pick one with highest prob\n",
    "        \n",
    "        ix = np.random.choice(range(vocab_size), p = p.ravel())\n",
    "        \n",
    "        # create a vector\n",
    "        \n",
    "        x = np.zeros((vocab_size, 1))\n",
    "        \n",
    "        # customize it for the predicted char\n",
    "        \n",
    "        x[ix] = 1\n",
    "        \n",
    "        # add it to the list\n",
    "        \n",
    "        ixes.append(ix)\n",
    "        \n",
    "    txt = ''.join(int_to_char[ix] for ix in ixes)\n",
    "    \n",
    "    print '----\\n %s \\n ---- ' % (txt,)\n",
    "    \n",
    "hprev = np.zeros((hidden_size,1)) # Reset RNN memory?\n",
    "\n",
    "# predict the next 200 characters given 'a'\n",
    "\n",
    "sample(hprev, char_to_int['a'],200)\n"
   ]
  },
  {
   "cell_type": "markdown",
   "metadata": {},
   "source": [
    "Training\n",
    "---\n",
    "\n",
    "- Feed the network some portion of the file. Size of chunk is *seq_length*\n",
    "- Use the loss function to:\n",
    "    - Do forward pass to calculate all parameters for the model for a given input\n",
    "    - Do backward pass to calculate gradients\n",
    "- Print a sentence from a random seed using the paramters of the network\n",
    "- Update the model using Adaptive Gradient technique Adagrad\n",
    "\n"
   ]
  },
  {
   "cell_type": "markdown",
   "metadata": {},
   "source": [
    "### Feed the Loss function with inputs and targets\n",
    "\n",
    "Create two array of char from the data file, the targets one is shifted\n",
    "\n",
    "For each char in the input array, the target array give the char that follows"
   ]
  },
  {
   "cell_type": "code",
   "execution_count": 16,
   "metadata": {},
   "outputs": [
    {
     "name": "stdout",
     "output_type": "stream",
     "text": [
      "inputs [32, 20, 15, 3, 25, 24, 16, 3, 23, 12, 26, 3, 12, 26, 16, 3, 32, 20, 15, 3, 29, 15, 12, 1, 1]\n",
      "targets [20, 15, 3, 25, 24, 16, 3, 23, 12, 26, 3, 12, 26, 16, 3, 32, 20, 15, 3, 29, 15, 12, 1, 1, 1]\n"
     ]
    }
   ],
   "source": [
    "p = 0\n",
    "inputs = [char_to_int[ch] for ch in data[p:p+seq_length]]\n",
    "\n",
    "print 'inputs', inputs\n",
    "\n",
    "targets = [char_to_int[ch] for ch in data[p+1:p+seq_length+1]]\n",
    "\n",
    "print 'targets', targets"
   ]
  },
  {
   "cell_type": "markdown",
   "metadata": {},
   "source": [
    "### Adagrad to update the parameters\n",
    "\n",
    "$$ \\theta_{t+1,i} = \\theta_{t,i} - \\frac{\\eta}{\\sqrt{G_{t,ii} + \\epsilon}} \\cdot g_{t,i} $$\n",
    "\n",
    "where:\n",
    "\n",
    "$ \\eta = learning rate $  \n",
    "$ G = previous gradients $  \n",
    "$\\triangledown $\n",
    "\n",
    "`step size = learning rate`\n",
    "\n",
    "The easiest technique to update the paramters of the model is this:\n",
    "\n",
    "`param += dparam * step_size`\n",
    "\n",
    "Adagrad is a more efficient technique where `step_size` is getting smaller during learner\n",
    "\n",
    "Uses a memory varaible that grows over time:\n",
    "\n",
    "`mem += dparam * dparam`\n",
    "\n",
    "And use it to calculate the step size:\n",
    "\n",
    "`step_size = 1./np.sqrt(mem + 1e-8)`\n",
    "\n",
    "More info here:\n",
    "\n",
    "http://ruder.io/optimizing-gradient-descent/\n"
   ]
  },
  {
   "cell_type": "markdown",
   "metadata": {},
   "source": [
    "Implement\n",
    "---"
   ]
  },
  {
   "cell_type": "code",
   "execution_count": 22,
   "metadata": {},
   "outputs": [
    {
     "name": "stdout",
     "output_type": "stream",
     "text": [
      "iter 0, loss: 104.346798\n"
     ]
    },
    {
     "data": {
      "image/png": "[encoded data removed]",
      "text/plain": [
       "<matplotlib.figure.Figure at 0x113012850>"
      ]
     },
     "metadata": {},
     "output_type": "display_data"
    },
    {
     "name": "stdout",
     "output_type": "stream",
     "text": [
      "----\n",
      " Efirindn asix cants wEind tHidd Serap id tUatrhin nnanis ssaragar Dnin ndo Darly loEE I\n",
      "He man nEo an deyGmilf yaid TTYar is i yerainge\n",
      "fire ly  HI thane nttea falf HEin a\n",
      "soe lenay an mEind i\n",
      "I findr \n",
      " ---- \n",
      "iter 1000, loss: 77.611783\n"
     ]
    },
    {
     "data": {
      "image/png": "[encoded data removed]",
      "text/plain": [
       "<matplotlib.figure.Figure at 0x112f48810>"
      ]
     },
     "metadata": {},
     "output_type": "display_data"
    },
    {
     "name": "stdout",
     "output_type": "stream",
     "text": [
      "----\n",
      " apl wole hoqne\n",
      "Boidan, the fous ay the mynthit fof ceike\n",
      "pougacdtst the there sok.  me\n",
      "he want mwertir the gan ige woy ofd ang las weide lar oks mhe the alk werisp the cad ta sapus fesyebe the hal ric \n",
      " ---- \n",
      "The average time for 1000 iterations is 3.95 seconds\n",
      "The time remaining is 6.51 minutes.\n",
      "iter 2000, loss: 64.067565\n"
     ]
    },
    {
     "data": {
      "image/png": "[encoded data removed]",
      "text/plain": [
       "<matplotlib.figure.Figure at 0x113935f90>"
      ]
     },
     "metadata": {},
     "output_type": "display_data"
    },
    {
     "name": "stdout",
     "output_type": "stream",
     "text": [
      "----\n",
      " e\n",
      "\"RDam swing if frit he wang wot the a a cead iculastad puf uf,  He bbomh mnofed sa id the ho\n",
      "cee\n",
      "ptif Iome\n",
      "her oln thut os werm tarlas Nindmam nighe;\n",
      "thism. \"I cuks.  Ne he the thaalid thow jofs thr \n",
      " ---- \n",
      "The average time for 1000 iterations is 5.43 seconds\n",
      "The time remaining is 8.87 minutes.\n",
      "iter 3000, loss: 58.723261\n"
     ]
    },
    {
     "data": {
      "image/png": "[encoded data removed]",
      "text/plain": [
       "<matplotlib.figure.Figure at 0x11301be90>"
      ]
     },
     "metadata": {},
     "output_type": "display_data"
    },
    {
     "name": "stdout",
     "output_type": "stream",
     "text": [
      "----\n",
      " nd nee anesid how.  I\n",
      "ho finellin oim and the haaf thees thot tthe hrind aghe un anf ig Shand ilbe wilast\n",
      "varinl habig I mroon\n",
      "Hann avomr igeed af he thas shee be he bas lay\n",
      "mork dYave hid alg In'lada \n",
      " ---- \n",
      "The average time for 1000 iterations is 4.16 seconds\n",
      "The time remaining is 6.72 minutes.\n",
      "iter 4000, loss: 54.679400\n"
     ]
    },
    {
     "data": {
      "image/png": "[encoded data removed]",
      "text/plain": [
       "<matplotlib.figure.Figure at 0x1132f43d0>"
      ]
     },
     "metadata": {},
     "output_type": "display_data"
    },
    {
     "name": "stdout",
     "output_type": "stream",
     "text": [
      "----\n",
      " d he whe bos and him\n",
      "rrone he bafty lim son winnsnereff wisfich he freinuss has thut wounfd rut low them annt.  Neliger bef\n",
      "the daf  Mand pundis fwork_. then.  Buged dom nasage.  it\n",
      "the oin.  Tould la \n",
      " ---- \n",
      "The average time for 1000 iterations is 5.99 seconds\n",
      "The time remaining is 9.58 minutes.\n"
     ]
    },
    {
     "ename": "KeyboardInterrupt",
     "evalue": "",
     "output_type": "error",
     "traceback": [
      "\u001b[0;31m---------------------------------------------------------------------------\u001b[0m",
      "\u001b[0;31mKeyboardInterrupt\u001b[0m                         Traceback (most recent call last)",
      "\u001b[0;32m<ipython-input-22-d789f0a7baad>\u001b[0m in \u001b[0;36m<module>\u001b[0;34m()\u001b[0m\n\u001b[1;32m     36\u001b[0m     \u001b[0;31m# Determine loss, gradients, and hidden state\u001b[0m\u001b[0;34m\u001b[0m\u001b[0;34m\u001b[0m\u001b[0m\n\u001b[1;32m     37\u001b[0m \u001b[0;34m\u001b[0m\u001b[0m\n\u001b[0;32m---> 38\u001b[0;31m     \u001b[0mloss\u001b[0m\u001b[0;34m,\u001b[0m \u001b[0md_weights_x_h\u001b[0m\u001b[0;34m,\u001b[0m \u001b[0md_weights_h_h\u001b[0m\u001b[0;34m,\u001b[0m \u001b[0md_weights_h_y\u001b[0m\u001b[0;34m,\u001b[0m \u001b[0md_bias_h\u001b[0m\u001b[0;34m,\u001b[0m \u001b[0md_bias_y\u001b[0m\u001b[0;34m,\u001b[0m \u001b[0mhprev\u001b[0m \u001b[0;34m=\u001b[0m \u001b[0mtrain\u001b[0m\u001b[0;34m(\u001b[0m\u001b[0minputs\u001b[0m\u001b[0;34m,\u001b[0m \u001b[0mtargets\u001b[0m\u001b[0;34m,\u001b[0m \u001b[0mhprev\u001b[0m\u001b[0;34m)\u001b[0m\u001b[0;34m\u001b[0m\u001b[0m\n\u001b[0m\u001b[1;32m     39\u001b[0m \u001b[0;34m\u001b[0m\u001b[0m\n\u001b[1;32m     40\u001b[0m     \u001b[0;31m# Smooth the loss function\u001b[0m\u001b[0;34m\u001b[0m\u001b[0;34m\u001b[0m\u001b[0m\n",
      "\u001b[0;32m<ipython-input-10-757d78591579>\u001b[0m in \u001b[0;36mtrain\u001b[0;34m(inputs, targets, hprev)\u001b[0m\n\u001b[1;32m     22\u001b[0m         \u001b[0;31m# Placeholder for inputs\u001b[0m\u001b[0;34m\u001b[0m\u001b[0;34m\u001b[0m\u001b[0m\n\u001b[1;32m     23\u001b[0m \u001b[0;34m\u001b[0m\u001b[0m\n\u001b[0;32m---> 24\u001b[0;31m         \u001b[0mx_s\u001b[0m\u001b[0;34m[\u001b[0m\u001b[0mt\u001b[0m\u001b[0;34m]\u001b[0m \u001b[0;34m=\u001b[0m \u001b[0mnp\u001b[0m\u001b[0;34m.\u001b[0m\u001b[0mzeros\u001b[0m\u001b[0;34m(\u001b[0m\u001b[0;34m(\u001b[0m\u001b[0mvocab_size\u001b[0m\u001b[0;34m,\u001b[0m\u001b[0;36m1\u001b[0m\u001b[0;34m)\u001b[0m\u001b[0;34m)\u001b[0m\u001b[0;34m\u001b[0m\u001b[0m\n\u001b[0m\u001b[1;32m     25\u001b[0m \u001b[0;34m\u001b[0m\u001b[0m\n\u001b[1;32m     26\u001b[0m         \u001b[0;31m# Set inputs to 1\u001b[0m\u001b[0;34m\u001b[0m\u001b[0;34m\u001b[0m\u001b[0m\n",
      "\u001b[0;31mKeyboardInterrupt\u001b[0m: "
     ]
    }
   ],
   "source": [
    "%matplotlib inline\n",
    "\n",
    "# Initialise \"memory\" variables\n",
    "\n",
    "n = 0\n",
    "p = 0\n",
    "\n",
    "m_weights_x_h = np.zeros_like(weights_x_h)\n",
    "m_weights_h_h = np.zeros_like(weights_h_h)\n",
    "m_weights_h_y = np.zeros_like(weights_h_y)\n",
    "\n",
    "# Bias memory variables\n",
    "\n",
    "m_bias_h = np.zeros_like(bias_h)\n",
    "m_bias_y = np.zeros_like(bias_y) \n",
    "\n",
    "# Smooth loss\n",
    "\n",
    "smooth_loss = -np.log(1.0/vocab_size)*seq_length # loss at iteration\n",
    "\n",
    "\n",
    "losses = []\n",
    "\n",
    "time_elapsed = []\n",
    "\n",
    "start_time = time.time()\n",
    "\n",
    "while n<= 1000*100:\n",
    "    \n",
    "    if p+seq_length +1 >= len(data) or n == 0:\n",
    "        hprev = np.zeros((hidden_size,1)) # reset RNN memory\n",
    "        p = 0 # go from start of data\n",
    "    inputs = [char_to_int[ch] for ch in data[p:p+seq_length]]\n",
    "    targets = [char_to_int[ch] for ch in data[p+1:p+seq_length+1]]\n",
    "    \n",
    "    # Determine loss, gradients, and hidden state\n",
    "    \n",
    "    loss, d_weights_x_h, d_weights_h_h, d_weights_h_y, d_bias_h, d_bias_y, hprev = train(inputs, targets, hprev)\n",
    "    \n",
    "    # Smooth the loss function \n",
    "    \n",
    "    smooth_loss = smooth_loss * 0.999 + loss * 0.001\n",
    "    \n",
    "    \n",
    "    # Sample from model\n",
    "    \n",
    "    if n % 1000 == 0:\n",
    "        print 'iter %d, loss: %f' % (n, smooth_loss) # print progress\n",
    "        losses.append(smooth_loss)\n",
    "        #print losses\n",
    "        plt.plot(losses)\n",
    "        plt.title('Loss function')\n",
    "        plt.ylabel('Loss')\n",
    "        plt.xlabel(\"Iteration in '000s\")\n",
    "        plt.show()\n",
    "        sample(hprev, inputs[0], 200)\n",
    "        time_elapsed.append(time.time() - start_time)\n",
    "        if len(time_elapsed) > 1:\n",
    "            average_time = time_elapsed[-1]-time_elapsed[-2]\n",
    "            print \"The average time for 1000 iterations is\", round(average_time,2) , \"seconds\"\n",
    "            print \"The time remaining is\", round((((100000-n)/1000)*(average_time))/60,2), \"minutes.\"\n",
    "\n",
    "        \n",
    "        \n",
    "        \n",
    "    # perform paramter update with Adagrad\n",
    "    \n",
    "    for param, d_param, mem in zip([weights_x_h, weights_h_h, weights_h_y, bias_h, bias_y],\n",
    "                                   \n",
    "                                 [d_weights_x_h, d_weights_h_h, d_weights_h_y, d_bias_h, d_bias_y],\n",
    "                                   \n",
    "                                 [m_weights_x_h, m_weights_h_h, m_weights_h_y, m_bias_h, m_bias_y]):\n",
    "        \n",
    "        \n",
    "        mem += d_param * d_param\n",
    "        param += -learning_rate * d_param / np.sqrt(mem + 1e-8) # \n",
    "        \n",
    "\n",
    "    \n",
    "\n",
    "        \n",
    "    p += seq_length # move data pointer\n",
    "    n += 1 # iteration counter\n",
    "    \n",
    "\n",
    "        "
   ]
  }
 ],
 "metadata": {
  "kernelspec": {
   "display_name": "Python 2",
   "language": "python",
   "name": "python2"
  },
  "language_info": {
   "codemirror_mode": {
    "name": "ipython",
    "version": 2
   },
   "file_extension": ".py",
   "mimetype": "text/x-python",
   "name": "python",
   "nbconvert_exporter": "python",
   "pygments_lexer": "ipython2",
   "version": "2.7.13"
  }
 },
 "nbformat": 4,
 "nbformat_minor": 2
}
