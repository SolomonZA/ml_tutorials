{
 "cells": [
  {
   "cell_type": "code",
   "execution_count": 135,
   "metadata": {},
   "outputs": [
    {
     "data": {
      "text/plain": [
       "65"
      ]
     },
     "execution_count": 135,
     "metadata": {},
     "output_type": "execute_result"
    }
   ],
   "source": [
    "import keras\n",
    "import math\n",
    "import numpy as np\n",
    "import my_txtutils as txt\n",
    "from keras.utils.vis_utils import plot_model\n",
    "\n",
    "# Load data\n",
    "\n",
    "#austen_dir = 'austen/*.txt'\n",
    "#data, vali, books = txt.read_data_files(austen_dir, validation = True)\n",
    "\n",
    "# one_hot encode\n",
    "\n",
    "# encoded = keras.utils.to_categorical(data)\n",
    "\n",
    "# encoded_vali = keras.utils.to_categorical(vali)\n",
    "\n",
    "# Reshape data\n",
    "\n",
    "\n",
    "\n",
    "\n",
    "# LSTM Model\n",
    "\n",
    "model = keras.models.Sequential()\n",
    "#model.add(keras.layers.LSTM(256, input_shape = ))\n",
    "\n",
    "\n",
    "###\n",
    "# Brownlee\n",
    "###\n",
    "\n",
    "filename = 'austen/pride.txt'\n",
    "raw_text = open(filename).read()\n",
    "\n",
    "\n",
    "raw_text = raw_text.lower()\n",
    "\n",
    "chars=sorted(list(set(raw_text)))\n",
    "\n",
    "chars\n",
    "char_to_int = dict((c,i) for i,c in enumerate(chars))\n",
    "\n",
    "chars_to_int\n",
    "\n",
    "n_chars = len(raw_text)\n",
    "\n",
    "n_vocab = len(chars)\n",
    "\n",
    "n_vocab\n",
    "\n",
    "\n",
    "\n",
    "\n",
    "\n"
   ]
  },
  {
   "cell_type": "code",
   "execution_count": 128,
   "metadata": {},
   "outputs": [],
   "source": [
    "\n",
    "\n",
    "seq_length = 100\n",
    "dataX  =[]\n",
    "dataY = []\n",
    "\n",
    "for i in range(0, n_chars - seq_length, 1):\n",
    "    seq_in = raw_text[i:i + seq_length]\n",
    "    seq_out = raw_text[i + seq_length]\n",
    "    dataX.append([char_to_int[char] for char in seq_in])\n",
    "    dataY.append(char_to_int[seq_out])\n",
    "\n",
    "n_patterns = len(dataX)\n"
   ]
  },
  {
   "cell_type": "code",
   "execution_count": 143,
   "metadata": {},
   "outputs": [],
   "source": [
    "X = np.reshape(dataX, (n_patterns, seq_length, 1))\n",
    "X = X/float(n_vocab)\n",
    "\n",
    "y = keras.utils.np_utils.to_categorical(dataY)\n",
    "\n",
    "\n",
    "\n",
    "\n",
    "# Define the LSTM Model\n",
    "\n",
    "model = keras.models.Sequential()\n",
    "model.add(keras.layers.LSTM(256, input_shape = (X.shape[1], X.shape[2])))\n",
    "model.add(keras.layers.Dropout(0.2))\n",
    "model.add(keras.layers.Dense(y.shape[1], activation = 'softmax'))\n",
    "model.compile(loss = 'categorical_crossentropy', optimizer = 'adam')\n",
    "\n",
    "# Checkpoint\n",
    "\n",
    "filepath=\"weights-improvement-{epoch:02d}-{loss:.4f}.hdf5\"\n",
    "checkpoint = keras.callbacks.ModelCheckpoint(filepath, monitor='loss', verbose=1, save_best_only=True, mode='min')\n",
    "callbacks_list = [checkpoint]\n",
    "\n",
    "# Fit model\n",
    "\n",
    "#model.fit(X, y, epochs = 20, batch_size = 128, callbacks=callbacks_list)"
   ]
  },
  {
   "cell_type": "code",
   "execution_count": null,
   "metadata": {
    "collapsed": true
   },
   "outputs": [],
   "source": []
  }
 ],
 "metadata": {
  "kernelspec": {
   "display_name": "Python 2",
   "language": "python",
   "name": "python2"
  },
  "language_info": {
   "codemirror_mode": {
    "name": "ipython",
    "version": 2
   },
   "file_extension": ".py",
   "mimetype": "text/x-python",
   "name": "python",
   "nbconvert_exporter": "python",
   "pygments_lexer": "ipython2",
   "version": "2.7.13"
  }
 },
 "nbformat": 4,
 "nbformat_minor": 2
}
