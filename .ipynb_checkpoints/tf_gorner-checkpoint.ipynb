{
 "cells": [
  {
   "cell_type": "code",
   "execution_count": 4,
   "metadata": {},
   "outputs": [],
   "source": [
    "import tensorflow as tf\n",
    "\n",
    "# GRU RNN\n",
    "\n",
    "ALPHASIZE = 98\n",
    "CELLSIZE = 512\n",
    "NLAYERS = 3\n",
    "SEQLEN = 30\n",
    "\n",
    "cell = tf.contrib.rnn.GRUCell(CELLSIZE)\n",
    "\n",
    "mcell = tf.contrib.rnn.MultiRNNCell([cell]*NLAYERS, state_is_tuple = False)\n",
    "\n",
    "Hr, H = tf.nn.dynamic_rnn(mcell, X, initial_state = Hin)\n",
    "\n",
    "Hf = tf.reshape(Hr, [-1, CELLSIZE])\n",
    "\n",
    "Ylogits = layers.linear(Hf, ALPHASIZE)\n",
    "\n",
    "Y = tf.nn.softmax(Ylogits)\n",
    "\n",
    "loss = tf.nn.softmax_cross_entropy_with_logits(Ylogits, Y)\n",
    "\n",
    "\n",
    "\n"
   ]
  },
  {
   "cell_type": "code",
   "execution_count": null,
   "metadata": {
    "collapsed": true
   },
   "outputs": [],
   "source": [
    "# Placeholders\n",
    "\n",
    "Xd = tf.placeholder(tf.uint8, [None, None])\n",
    "\n",
    "X = tf.one_hot(X, ALPHASIZE, 1.0, 0.0)\n",
    "\n",
    "Yd_ = tf.placeholder(tf.uint8, [None, None])\n",
    "\n",
    "Y_ = tf.one_hot(Y_, ALPHASIZE, 1.0, 0.0)\n",
    "\n",
    "Hin = tf.placeholder(tf.float32, [None, CELLSIZE*NLAYERS])\n",
    "\n",
    "# Y, loss = my_model(X, Y_, Hin)\n",
    "\n",
    "predictions = tf.argmax(Y,1)\n",
    "\n",
    "predictions = tf.reshape(predictions, [batchsize, -1])\n",
    "\n",
    "train_step = tf.train.AdamOptimizer(1e-3).minimize(loss)"
   ]
  }
 ],
 "metadata": {
  "kernelspec": {
   "display_name": "Python 2",
   "language": "python",
   "name": "python2"
  },
  "language_info": {
   "codemirror_mode": {
    "name": "ipython",
    "version": 2
   },
   "file_extension": ".py",
   "mimetype": "text/x-python",
   "name": "python",
   "nbconvert_exporter": "python",
   "pygments_lexer": "ipython2",
   "version": "2.7.13"
  }
 },
 "nbformat": 4,
 "nbformat_minor": 2
}
