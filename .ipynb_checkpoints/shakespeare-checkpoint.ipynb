{
 "cells": [
  {
   "cell_type": "code",
   "execution_count": 11,
   "metadata": {},
   "outputs": [],
   "source": [
    "import tensorflow as tf\n",
    "from tensorflow.contrib import layers\n",
    "from tensorflow.contrib import rnn\n",
    "import os\n",
    "import time\n",
    "import math\n",
    "import numpy as np\n",
    "import my_txtutils as txt\n",
    "import sys\n",
    "\n",
    "tf.set_random_seed(0)\n",
    "tf.reset_default_graph()\n",
    "\n",
    "SEQLEN = 30\n",
    "BATCHSIZE = 20\n",
    "ALPHABETSIZE = txt.ALPHASIZE # 98 characters in vocab being used\n",
    "INTERNALSIZE = 128\n",
    "NLAYERS = 1\n",
    "\n",
    "keep_prob = 0.8\n",
    "\n"
   ]
  },
  {
   "cell_type": "code",
   "execution_count": 24,
   "metadata": {},
   "outputs": [
    {
     "name": "stdout",
     "output_type": "stream",
     "text": [
      "Loading file shakespeare/2kinghenryvi.txt\n",
      "Loading file shakespeare/asyoulikeit.txt\n",
      "Loading file shakespeare/hamlet.txt\n",
      "Loading file shakespeare/kingjohn.txt\n",
      "Loading file shakespeare/loverscomplaint.txt\n",
      "Loading file shakespeare/merchantofvenice.txt\n",
      "Loading file shakespeare/othello.txt\n",
      "Loading file shakespeare/sonnets.txt\n",
      "Loading file shakespeare/titusandronicus.txt\n",
      "Loading file shakespeare/various.txt\n"
     ]
    }
   ],
   "source": [
    "# Load Shakespeare Data \n",
    "\n",
    "shakedir = \"shakespeare/*.txt\"\n",
    "\n",
    "codetext, valitext, bookranges = txt.read_data_files(shakedir, validation=True)\n",
    "\n",
    "# My_txtuils.py\n",
    "\n",
    "    # uses glob for pathnames\n",
    "    # convert_from_alphabet() - convert to ASCII values\n",
    "    "
   ]
  },
  {
   "cell_type": "code",
   "execution_count": 27,
   "metadata": {},
   "outputs": [
    {
     "name": "stdout",
     "output_type": "stream",
     "text": [
      "Training text size is 0.93MB with 139.61KB set aside for validation. There will be 1458420 batches per epoch\n"
     ]
    }
   ],
   "source": [
    "# Some statistics\n",
    "\n",
    "epoch_size = len(codetext) // BATCHSIZE * SEQLEN\n",
    "\n",
    "txt.print_data_stats(len(codetext), len(valitext), epoch_size)"
   ]
  },
  {
   "cell_type": "code",
   "execution_count": null,
   "metadata": {
    "collapsed": true
   },
   "outputs": [],
   "source": [
    "# Placeholders\n",
    "\n",
    "    # URL: https://learningtensorflow.com/lesson4/\n",
    "    \n",
    "    \"\"\"Placeholder: a variable that we will assign data to at a later date. \n",
    "    It allows us to create our operations and build our computation\n",
    "    graph, without needing the data. \n",
    "    \n",
    "    In TensorFlow terminology, we then feed data into the graph\n",
    "    through these placeholders.\"\"\"\"\n",
    "\n",
    "keep_prob_placeholder(tf.float32, name = 'keep_prob') # dropout param\n",
    "batchsoze = tf.placeholder(tf.int32, name = 'batchsize')\n",
    "\n",
    "# inputs \n",
    "\n",
    "X = tf.placeholder(tf.uint8, [None, None], name = 'X')\n",
    "Xo = tf.one_hot(X, ALPHABETSIZE, 1.0, 0.0)\n",
    "\n",
    "# expected outputs = same sequence shifted by 1 since we are trying\n",
    "# to predict next character\n",
    "\n",
    "Y_ = tf.placeholder(tf.uint8, [None, None], name = 'Y_')\n",
    "Yo_ = tf.one_hot(Y_, ALPHABETSIZE, 1.0, 0.0)\n",
    "\n",
    "# Input state\n",
    "\n",
    "Hin = tf.placeholder(tf.float32, [None, INTERNALSIZE*NLAYERS], name = 'Hin')"
   ]
  },
  {
   "cell_type": "code",
   "execution_count": null,
   "metadata": {
    "collapsed": true
   },
   "outputs": [],
   "source": [
    "# using NLAYERS of GRU cells, unrolled SEQLEN=30 times\n",
    "# dynamic_rnn infers SEQLEN from the size of the inputs Xo\n",
    "\n",
    "cells = [rnn.GRUCell(INTERNALSIZE) for _ in range(NLAYERS)]\n",
    "\n",
    "# \"naive dropout\" implementaiton\n",
    "dropcells = [rnn.DropoutWrapper(cell, input_keep_prob=keep_prob_placeholder) for cell in cells]\n",
    "\n",
    "multicell = rnn.MultiRNNCell(dropcells, state_is_tuple=False)\n",
    "\n",
    "#dropout for the softmax layer\n",
    "\n",
    "multicell = rnn.DropoutWrapper(multicell, output_keep_prob = keep_prob_placeholder)\n",
    "\n",
    "Yr, H = tf.nn.dynamic_rnn(cell, Xo, dype=tf.float32, initial_state = Hin)\n",
    "\n"
   ]
  },
  {
   "cell_type": "code",
   "execution_count": null,
   "metadata": {
    "collapsed": true
   },
   "outputs": [],
   "source": [
    "# Softma layer implementation\n",
    "# Flatten the first two dimension of the output\n",
    "    # [BATCHSIZE, SEQLEN, ALPHABETSIZE] => [ BATCHSIZE*SEQLEN, ALPHASIZE]\n",
    "# then apply softmax laye.\n",
    "    # Weights and biases are shared across unrolled time steps\n",
    "    \n",
    "W = tf.Variable(tf.random_normal([INTERNALSIZE, ALPHABETSIZE]))\n",
    "B = tf.Variable(tf.random_normal([ALPHABETSIZE]))\n",
    "\n",
    "Yflat = tf.reshape(Yr, [-1, INTERNALSIZE]) # [BATCHSIZE*SEQLEN, INTERNALSIZE]\n",
    "Ylogits = tf.matmul(Yflat, W) + B # [BATCHSIZE*SEQLEN, ALPHASIZE]\n",
    "\n",
    "Yflat = tf.reshape(Yo_, [-1, ALPHABETSIZE])\n",
    "\n",
    "loss = tf.nn.softmax_cross_entropy_with_logits(logits = Ylogits, labels = Yflat)\n",
    "loss = tf.reshape(loss, [BATCHSIZE, -1])\n",
    "\n",
    "Yo = tf.nn.softmax(Ylogits, name = 'Yo')\n",
    "Y = tf.argmax(Yo, 1)\n",
    "Y = tf.reshape(Y, [BATCHSIZE, -1], name = \"Y\")\n",
    "\n",
    "train_step = tf.train.AdamOptimizer(0.001).minimize(loss)"
   ]
  },
  {
   "cell_type": "code",
   "execution_count": null,
   "metadata": {
    "collapsed": true
   },
   "outputs": [],
   "source": [
    "# Stats for display\n",
    "\n",
    "seqloss = tf.reduce_mean(loss,1)\n",
    "batchloss = tf.reduce_mean(seqloss)\n",
    "accuracy = tf.reduce_mean(tf.cast(tf.equal(Y_, tf.cast(Y, tf.uint8)), tf.float32))\n",
    "\n",
    "# Proress bar\n",
    "\n",
    "DISPLAY_FREQ = 50\n",
    "_50_BATCHES = DISPLAY_FREQ * BATCHSIZE * SEQLEN\n",
    "\n",
    "progress = text.Progress(DISPLAY_FREQ, size = 111+2,\n",
    "                         msg = \"Training on next\" + str(DISPLAY_FREQ) +\"batches\")"
   ]
  },
  {
   "cell_type": "code",
   "execution_count": null,
   "metadata": {
    "collapsed": true
   },
   "outputs": [],
   "source": [
    "# init\n",
    "\n",
    "istate = np.zeroes([BATCHSIZE, INTERNALSIZE * NLAYERS])\n",
    "\n",
    "init = tf.global_variables_initializer()\n",
    "sess = tf.Session()\n",
    "sess.run(init)\n",
    "step = 0\n",
    "\n"
   ]
  },
  {
   "cell_type": "code",
   "execution_count": null,
   "metadata": {
    "collapsed": true
   },
   "outputs": [],
   "source": []
  }
 ],
 "metadata": {
  "kernelspec": {
   "display_name": "Python 2",
   "language": "python",
   "name": "python2"
  },
  "language_info": {
   "codemirror_mode": {
    "name": "ipython",
    "version": 2
   },
   "file_extension": ".py",
   "mimetype": "text/x-python",
   "name": "python",
   "nbconvert_exporter": "python",
   "pygments_lexer": "ipython2",
   "version": "2.7.13"
  }
 },
 "nbformat": 4,
 "nbformat_minor": 2
}
