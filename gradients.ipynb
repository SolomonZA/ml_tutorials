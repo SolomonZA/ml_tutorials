{
 "cells": [
  {
   "cell_type": "code",
   "execution_count": 2,
   "metadata": {},
   "outputs": [
    {
     "name": "stdout",
     "output_type": "stream",
     "text": [
      "Starting gradient descent -> initial_b = 0, initial_m = 0, initial_error = 5565.10783448\n",
      "Running...\n",
      "After 1000 iterations -> final_b = 0.116832206834, final_m = 1.4771976436, final_error = 112.5981953\n"
     ]
    }
   ],
   "source": [
    "from numpy import *\n",
    "\n",
    "# y = mx + b\n",
    "# m is slope, b is y-intercept\n",
    "def compute_error_for_line_given_points(b, m, points):\n",
    "  total_error = 0\n",
    "  for i in range(0, len(points)):\n",
    "    x = points[i,0]\n",
    "    y = points[i,1]\n",
    "    total_error += (y - (m * x + b)) ** 2\n",
    "  return total_error / float(len(points))\n",
    "\n",
    "def step_gradient(b_current, m_current, points, learning_rate):\n",
    "  b_gradient = 0\n",
    "  m_gradient = 0\n",
    "\n",
    "  total_pts = float(len(points))\n",
    "  for i in range(0, len(points)):\n",
    "    x = points[i,0]\n",
    "    y = points[i,1]\n",
    "\n",
    "    b_gradient = b_gradient - (2/total_pts) * (y - (m_current * x) + b_current)\n",
    "    m_gradient = m_gradient - (2/total_pts) * x * (y - ((m_current * x) + b_current))\n",
    "\n",
    "  new_b = b_current - learning_rate * b_gradient\n",
    "  new_m = m_current - learning_rate * m_gradient\n",
    "  return [new_b, new_m]\n",
    "\n",
    "def gradient_descent_runner():\n",
    "  # Initialize variable for Gradient Descent\n",
    "  points = genfromtxt(\"data.csv\", delimiter=\",\")\n",
    "\n",
    "  learning_rate = 0.0001\n",
    "\n",
    "  starting_b = 0  # initial y-intercept\n",
    "  starting_m = 0  # initial slope\n",
    "\n",
    "  num_iters = 1000\n",
    "\n",
    "  print \"Starting gradient descent -> initial_b = {0}, initial_m = {1}, initial_error = {2}\".format(starting_b, starting_m,\n",
    "                                                                            compute_error_for_line_given_points(\n",
    "                                                                            starting_b, starting_m, points))\n",
    "  print \"Running...\"\n",
    "\n",
    "  for i in range(num_iters):\n",
    "    [starting_b, starting_m] = step_gradient(starting_b, starting_m, array(points), learning_rate)\n",
    "\n",
    "  print \"After {0} iterations -> final_b = {1}, final_m = {2}, final_error = {3}\".format(num_iters, starting_b, starting_m,\n",
    "                                                                    compute_error_for_line_given_points(starting_b, starting_m, points))\n",
    "\n",
    "\n",
    "if __name__ == '__main__':\n",
    "  gradient_descent_runner()"
   ]
  }
 ],
 "metadata": {
  "kernelspec": {
   "display_name": "Python 2",
   "language": "python",
   "name": "python2"
  },
  "language_info": {
   "codemirror_mode": {
    "name": "ipython",
    "version": 2
   },
   "file_extension": ".py",
   "mimetype": "text/x-python",
   "name": "python",
   "nbconvert_exporter": "python",
   "pygments_lexer": "ipython2",
   "version": "2.7.13"
  }
 },
 "nbformat": 4,
 "nbformat_minor": 2
}
